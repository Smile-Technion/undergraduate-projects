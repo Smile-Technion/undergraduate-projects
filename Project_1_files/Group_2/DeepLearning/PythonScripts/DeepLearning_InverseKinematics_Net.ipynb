{
  "nbformat": 4,
  "nbformat_minor": 0,
  "metadata": {
    "colab": {
      "name": "DeepLearning_InverseKinematics_Net.ipynb",
      "provenance": [],
      "collapsed_sections": []
    },
    "kernelspec": {
      "name": "python3",
      "display_name": "Python 3"
    }
  },
  "cells": [
    {
      "cell_type": "code",
      "metadata": {
        "id": "t6uKMNxG_Oi5",
        "outputId": "cd58b10b-b0d7-4351-c1ec-5bcb6cb8b3ed",
        "colab": {
          "base_uri": "https://localhost:8080/",
          "height": 1000
        }
      },
      "source": [
        "from numpy import loadtxt\n",
        "from keras.models import Sequential\n",
        "from keras.layers import Dense\n",
        "import pandas as pd\n",
        "import tensorflow as tf\n",
        "import matplotlib.pyplot as plt\n",
        "from keras.callbacks import ModelCheckpoint\n",
        "from keras.layers import Dropout\n",
        "# load the dataset\n",
        "# split into input (X) and output (y) variables\n",
        "X = pd.read_csv('inputData.csv')\n",
        "y = pd.read_csv('outputData.csv')\n",
        "# define the keras model install tensorflow\n",
        "print(X.shape)\n",
        "print(y.shape)\n",
        "model = Sequential()\n",
        "model.add(Dense(12, input_dim=6, activation='relu'))\n",
        "# model.add(Dropout(0.3))\n",
        "# model.add(Dense(25, activation='relu'))\n",
        "model.add(Dense(6, activation='linear'))\n",
        "model.summary()\n",
        "# compile the keras model\n",
        "model.compile(loss=tf.keras.losses.MSE, optimizer='adam', metrics=['accuracy'])\n",
        "# fit the keras model on the dataset\n",
        "history=model.fit(X, y,validation_split=0.3 ,epochs=30, batch_size=100)\n",
        "# evaluate the keras model\n",
        "_, accuracy = model.evaluate(X, y)\n",
        "print('Accuracy: %.2f' % (accuracy*100))\n",
        "# checkpoint\n",
        "filepath=\"weights.best.hdf5\"\n",
        "checkpoint = ModelCheckpoint(filepath, monitor='val_accuracy', verbose=1, save_best_only=True, mode='max')\n",
        "callbacks_list = [checkpoint]\n",
        "# summarize history for accuracy\n",
        "plt.plot(history.history['accuracy'])\n",
        "plt.plot(history.history['val_accuracy'])\n",
        "plt.title('model accuracy')\n",
        "plt.ylabel('accuracy')\n",
        "plt.xlabel('epoch')\n",
        "plt.legend(['train', 'test'], loc='upper left')\n",
        "plt.show()\n",
        "# summarize history for loss\n",
        "plt.plot(history.history['loss'])\n",
        "plt.plot(history.history['val_loss'])\n",
        "plt.title('model loss')\n",
        "plt.ylabel('loss')\n",
        "plt.xlabel('epoch')\n",
        "plt.legend(['train', 'test'], loc='upper left')\n",
        "plt.show()\n",
        "# predictions =model.predict(Xnew)(X)\n",
        "# predictions =model.predict(X.iloc[0:1])\n",
        "# print(predictions)\n",
        "model_json = model.to_json()\n",
        "with open(\"model.json\", \"w\") as json_file:\n",
        "    json_file.write(model_json)\n",
        "# serialize weights to HDF5\n",
        "model.save_weights(\"model.h5\")\n",
        "print(\"Saved model to disk\")\n",
        " \n",
        "# later...\n",
        "model.save('my_model.h5')\n",
        "# model.add(Dropout(0.5))\n",
        "\n",
        "# # load json and create model\n",
        "# json_file = open('model.json', 'r')\n",
        "# loaded_model_json = json_file.read()\n",
        "# json_file.close()\n",
        "# loaded_model = model_from_json(loaded_model_json)\n",
        "# # load weights into new model\n",
        "# loaded_model.load_weights(\"model.h5\")\n",
        "# print(\"Loaded model from disk\")\n",
        " \n",
        "# # evaluate loaded model on test data\n",
        "# loaded_model.compile(loss='binary_crossentropy', optimizer='rmsprop', metrics=['accuracy'])\n",
        "# score = loaded_model.evaluate(X, Y, verbose=0)\n",
        "# print(\"%s: %.2f%%\" % (loaded_model.metrics_names[1], score[1]*100))"
      ],
      "execution_count": 10,
      "outputs": [
        {
          "output_type": "stream",
          "text": [
            "(199999, 6)\n",
            "(199999, 6)\n",
            "Model: \"sequential_5\"\n",
            "_________________________________________________________________\n",
            "Layer (type)                 Output Shape              Param #   \n",
            "=================================================================\n",
            "dense_10 (Dense)             (None, 12)                84        \n",
            "_________________________________________________________________\n",
            "dense_11 (Dense)             (None, 6)                 78        \n",
            "=================================================================\n",
            "Total params: 162\n",
            "Trainable params: 162\n",
            "Non-trainable params: 0\n",
            "_________________________________________________________________\n",
            "Epoch 1/30\n",
            "1400/1400 [==============================] - 2s 1ms/step - loss: 0.3146 - accuracy: 0.9323 - val_loss: 0.1318 - val_accuracy: 1.0000\n",
            "Epoch 2/30\n",
            "1400/1400 [==============================] - 2s 1ms/step - loss: 0.0381 - accuracy: 1.0000 - val_loss: 0.0960 - val_accuracy: 1.0000\n",
            "Epoch 3/30\n",
            "1400/1400 [==============================] - 2s 1ms/step - loss: 0.0288 - accuracy: 1.0000 - val_loss: 0.0795 - val_accuracy: 1.0000\n",
            "Epoch 4/30\n",
            "1400/1400 [==============================] - 2s 1ms/step - loss: 0.0229 - accuracy: 1.0000 - val_loss: 0.0687 - val_accuracy: 1.0000\n",
            "Epoch 5/30\n",
            "1400/1400 [==============================] - 2s 1ms/step - loss: 0.0170 - accuracy: 1.0000 - val_loss: 0.0490 - val_accuracy: 1.0000\n",
            "Epoch 6/30\n",
            "1400/1400 [==============================] - 2s 1ms/step - loss: 0.0113 - accuracy: 1.0000 - val_loss: 0.0382 - val_accuracy: 1.0000\n",
            "Epoch 7/30\n",
            "1400/1400 [==============================] - 2s 1ms/step - loss: 0.0079 - accuracy: 1.0000 - val_loss: 0.0290 - val_accuracy: 1.0000\n",
            "Epoch 8/30\n",
            "1400/1400 [==============================] - 2s 1ms/step - loss: 0.0059 - accuracy: 1.0000 - val_loss: 0.0255 - val_accuracy: 1.0000\n",
            "Epoch 9/30\n",
            "1400/1400 [==============================] - 2s 1ms/step - loss: 0.0050 - accuracy: 1.0000 - val_loss: 0.0230 - val_accuracy: 1.0000\n",
            "Epoch 10/30\n",
            "1400/1400 [==============================] - 2s 1ms/step - loss: 0.0045 - accuracy: 1.0000 - val_loss: 0.0210 - val_accuracy: 1.0000\n",
            "Epoch 11/30\n",
            "1400/1400 [==============================] - 2s 1ms/step - loss: 0.0042 - accuracy: 1.0000 - val_loss: 0.0193 - val_accuracy: 1.0000\n",
            "Epoch 12/30\n",
            "1400/1400 [==============================] - 2s 1ms/step - loss: 0.0039 - accuracy: 1.0000 - val_loss: 0.0204 - val_accuracy: 1.0000\n",
            "Epoch 13/30\n",
            "1400/1400 [==============================] - 2s 1ms/step - loss: 0.0037 - accuracy: 1.0000 - val_loss: 0.0201 - val_accuracy: 1.0000\n",
            "Epoch 14/30\n",
            "1400/1400 [==============================] - 2s 1ms/step - loss: 0.0036 - accuracy: 1.0000 - val_loss: 0.0201 - val_accuracy: 1.0000\n",
            "Epoch 15/30\n",
            "1400/1400 [==============================] - 2s 1ms/step - loss: 0.0034 - accuracy: 1.0000 - val_loss: 0.0201 - val_accuracy: 1.0000\n",
            "Epoch 16/30\n",
            "1400/1400 [==============================] - 2s 1ms/step - loss: 0.0034 - accuracy: 1.0000 - val_loss: 0.0193 - val_accuracy: 1.0000\n",
            "Epoch 17/30\n",
            "1400/1400 [==============================] - 2s 1ms/step - loss: 0.0033 - accuracy: 1.0000 - val_loss: 0.0199 - val_accuracy: 1.0000\n",
            "Epoch 18/30\n",
            "1400/1400 [==============================] - 2s 1ms/step - loss: 0.0032 - accuracy: 1.0000 - val_loss: 0.0193 - val_accuracy: 1.0000\n",
            "Epoch 19/30\n",
            "1400/1400 [==============================] - 2s 1ms/step - loss: 0.0032 - accuracy: 1.0000 - val_loss: 0.0195 - val_accuracy: 1.0000\n",
            "Epoch 20/30\n",
            "1400/1400 [==============================] - 2s 1ms/step - loss: 0.0031 - accuracy: 1.0000 - val_loss: 0.0187 - val_accuracy: 1.0000\n",
            "Epoch 21/30\n",
            "1400/1400 [==============================] - 2s 1ms/step - loss: 0.0031 - accuracy: 1.0000 - val_loss: 0.0203 - val_accuracy: 1.0000\n",
            "Epoch 22/30\n",
            "1400/1400 [==============================] - 2s 1ms/step - loss: 0.0031 - accuracy: 1.0000 - val_loss: 0.0200 - val_accuracy: 1.0000\n",
            "Epoch 23/30\n",
            "1400/1400 [==============================] - 2s 1ms/step - loss: 0.0030 - accuracy: 1.0000 - val_loss: 0.0199 - val_accuracy: 1.0000\n",
            "Epoch 24/30\n",
            "1400/1400 [==============================] - 2s 1ms/step - loss: 0.0029 - accuracy: 1.0000 - val_loss: 0.0194 - val_accuracy: 1.0000\n",
            "Epoch 25/30\n",
            "1400/1400 [==============================] - 2s 1ms/step - loss: 0.0029 - accuracy: 1.0000 - val_loss: 0.0191 - val_accuracy: 1.0000\n",
            "Epoch 26/30\n",
            "1400/1400 [==============================] - 2s 1ms/step - loss: 0.0028 - accuracy: 1.0000 - val_loss: 0.0202 - val_accuracy: 1.0000\n",
            "Epoch 27/30\n",
            "1400/1400 [==============================] - 2s 1ms/step - loss: 0.0028 - accuracy: 1.0000 - val_loss: 0.0194 - val_accuracy: 1.0000\n",
            "Epoch 28/30\n",
            "1400/1400 [==============================] - 2s 1ms/step - loss: 0.0027 - accuracy: 1.0000 - val_loss: 0.0201 - val_accuracy: 1.0000\n",
            "Epoch 29/30\n",
            "1400/1400 [==============================] - 2s 1ms/step - loss: 0.0027 - accuracy: 1.0000 - val_loss: 0.0206 - val_accuracy: 1.0000\n",
            "Epoch 30/30\n",
            "1400/1400 [==============================] - 2s 1ms/step - loss: 0.0027 - accuracy: 1.0000 - val_loss: 0.0204 - val_accuracy: 1.0000\n",
            "6250/6250 [==============================] - 8s 1ms/step - loss: 0.0080 - accuracy: 1.0000\n",
            "Accuracy: 100.00\n"
          ],
          "name": "stdout"
        },
        {
          "output_type": "display_data",
          "data": {
            "image/png": "[encoded data removed]",
            "text/plain": [
              "<Figure size 432x288 with 1 Axes>"
            ]
          },
          "metadata": {
            "tags": [],
            "needs_background": "light"
          }
        },
        {
          "output_type": "display_data",
          "data": {
            "image/png": "[encoded data removed]",
            "text/plain": [
              "<Figure size 432x288 with 1 Axes>"
            ]
          },
          "metadata": {
            "tags": [],
            "needs_background": "light"
          }
        },
        {
          "output_type": "stream",
          "text": [
            "Saved model to disk\n"
          ],
          "name": "stdout"
        }
      ]
    },
    {
      "cell_type": "code",
      "metadata": {
        "id": "r0Dmh6rt3RY3",
        "outputId": "30368456-c359-41dd-d5d1-c802e0c54733",
        "colab": {
          "base_uri": "https://localhost:8080/",
          "height": 573
        }
      },
      "source": [
        "# summarize history for accuracy\n",
        "plt.plot(history.history['accuracy'])\n",
        "plt.plot(history.history['val_accuracy'])\n",
        "plt.title('model accuracy')\n",
        "plt.ylabel('accuracy')\n",
        "plt.xlabel('epoch')\n",
        "plt.legend(['train', 'test'], loc='upper left')\n",
        "plt.show()\n",
        "# summarize history for loss\n",
        "plt.plot(history.history['loss'])\n",
        "plt.plot(history.history['val_loss'])\n",
        "plt.title('model loss')\n",
        "plt.ylabel('loss')\n",
        "plt.xlabel('epoch')\n",
        "plt.legend(['train', 'test'], loc='upper left')\n",
        "plt.show()\n",
        "\n",
        "\n",
        "\n",
        "\n",
        "\n",
        "##load model\n",
        "# import pandas as pd\n",
        "# import tensorflow as tf\n",
        "# import numpy as np\n",
        "# import gym\n",
        "# X = pd.read_csv('inputData_1.csv')\n",
        "# y = pd.read_csv('outputdata_1.csv')\n",
        "# new_model = tf.keras.models.load_model('my_model.h5')\n",
        "# # Check its architecture\n",
        "# new_model.summary()\n",
        "# # Evaluate the restored model\n",
        "# loss, acc = new_model.evaluate(X,  y, verbose=2)\n",
        "# print('Restored model, accuracy: {:5.2f}%'.format(100*acc))\n",
        "# # new_model.predict(X.iloc[0])\n",
        "# print(new_model.predict(X.iloc[0:1]))\n"
      ],
      "execution_count": 11,
      "outputs": [
        {
          "output_type": "display_data",
          "data": {
            "image/png": "[encoded data removed]",
            "text/plain": [
              "<Figure size 432x288 with 1 Axes>"
            ]
          },
          "metadata": {
            "tags": [],
            "needs_background": "light"
          }
        },
        {
          "output_type": "display_data",
          "data": {
            "image/png": "[encoded data removed]",
            "text/plain": [
              "<Figure size 432x288 with 1 Axes>"
            ]
          },
          "metadata": {
            "tags": [],
            "needs_background": "light"
          }
        }
      ]
    },
    {
      "cell_type": "code",
      "metadata": {
        "id": "3aOKo8T7E6Z6",
        "outputId": "ea30151b-f3c9-4bff-efd6-63b344bb5538",
        "colab": {
          "base_uri": "https://localhost:8080/",
          "height": 238
        }
      },
      "source": [
        "# from sklearn.datasets import make_regression\n",
        "# from sklearn.preprocessing import StandardScaler\n",
        "# from keras.models import Sequential\n",
        "# from keras.layers import Dense\n",
        "# from keras.optimizers import SGD\n",
        "# from matplotlib import pyplot\n",
        "# import numpy as np\n",
        "# X = pd.read_csv('inputData.csv')\n",
        "# y = pd.read_csv('outputData.csv')\n",
        "# n_train =int( np.round(199999*0.7))\n",
        "# trainX, testX = X.iloc[:n_train, :], X.iloc[n_train:, :]\n",
        "# trainy, testy = y.iloc[:n_train], y.iloc[n_train:]\n",
        "# # define model\n",
        "# model = Sequential()\n",
        "# model.add(Dense(25, input_dim=6, activation='relu', kernel_initializer='he_uniform'))\n",
        "# model.add(Dense(6, activation='linear'))\n",
        "# opt = SGD(lr=0.01, momentum=0.9)\n",
        "# model.compile(loss='mean_absolute_error', optimizer=opt, metrics=['mse'])\n",
        "# # fit model\n",
        "# history = model.fit(trainX, trainy, validation_data=(testX, testy), epochs=1, verbose=0)\n",
        "# # evaluate the model\n",
        "# _, train_mse = model.evaluate(trainX, trainy, verbose=0)\n",
        "# _, test_mse = model.evaluate(testX, testy, verbose=0)\n",
        "# print('Train: %.3f, Test: %.3f' % (train_mse, test_mse))\n",
        "# # plot loss during training\n",
        "# pyplot.subplot(211)\n",
        "# pyplot.title('Loss')\n",
        "# pyplot.plot(history.history['loss'], label='train')\n",
        "# pyplot.plot(history.history['val_loss'], label='test')\n",
        "# pyplot.legend()\n",
        "# # plot mse during training\n",
        "# pyplot.subplot(212)\n",
        "# # pyplot.title('Mean Squared Error')\n",
        "# predictions = model.predict_classes(X.iloc[0:1])\n",
        "# print(predictions)\n",
        "\n",
        "# # pyplot.plot(history.history['mean_squared_error'], label='train')\n",
        "# # pyplot.plot(history.history['val_mean_squared_error'], label='test')\n",
        "# # pyplot.legend()\n",
        "# # pyplot.show()"
      ],
      "execution_count": 1,
      "outputs": [
        {
          "output_type": "error",
          "ename": "NameError",
          "evalue": "ignored",
          "traceback": [
            "\u001b[0;31m---------------------------------------------------------------------------\u001b[0m",
            "\u001b[0;31mNameError\u001b[0m                                 Traceback (most recent call last)",
            "\u001b[0;32m<ipython-input-1-b77c2552ea38>\u001b[0m in \u001b[0;36m<module>\u001b[0;34m()\u001b[0m\n\u001b[1;32m      6\u001b[0m \u001b[0;32mfrom\u001b[0m \u001b[0mmatplotlib\u001b[0m \u001b[0;32mimport\u001b[0m \u001b[0mpyplot\u001b[0m\u001b[0;34m\u001b[0m\u001b[0;34m\u001b[0m\u001b[0m\n\u001b[1;32m      7\u001b[0m \u001b[0;32mimport\u001b[0m \u001b[0mnumpy\u001b[0m \u001b[0;32mas\u001b[0m \u001b[0mnp\u001b[0m\u001b[0;34m\u001b[0m\u001b[0;34m\u001b[0m\u001b[0m\n\u001b[0;32m----> 8\u001b[0;31m \u001b[0mX\u001b[0m \u001b[0;34m=\u001b[0m \u001b[0mpd\u001b[0m\u001b[0;34m.\u001b[0m\u001b[0mread_csv\u001b[0m\u001b[0;34m(\u001b[0m\u001b[0;34m'inputData.csv'\u001b[0m\u001b[0;34m)\u001b[0m\u001b[0;34m\u001b[0m\u001b[0;34m\u001b[0m\u001b[0m\n\u001b[0m\u001b[1;32m      9\u001b[0m \u001b[0my\u001b[0m \u001b[0;34m=\u001b[0m \u001b[0mpd\u001b[0m\u001b[0;34m.\u001b[0m\u001b[0mread_csv\u001b[0m\u001b[0;34m(\u001b[0m\u001b[0;34m'outputData.csv'\u001b[0m\u001b[0;34m)\u001b[0m\u001b[0;34m\u001b[0m\u001b[0;34m\u001b[0m\u001b[0m\n\u001b[1;32m     10\u001b[0m \u001b[0mn_train\u001b[0m \u001b[0;34m=\u001b[0m\u001b[0mint\u001b[0m\u001b[0;34m(\u001b[0m \u001b[0mnp\u001b[0m\u001b[0;34m.\u001b[0m\u001b[0mround\u001b[0m\u001b[0;34m(\u001b[0m\u001b[0;36m199999\u001b[0m\u001b[0;34m*\u001b[0m\u001b[0;36m0.7\u001b[0m\u001b[0;34m)\u001b[0m\u001b[0;34m)\u001b[0m\u001b[0;34m\u001b[0m\u001b[0;34m\u001b[0m\u001b[0m\n",
            "\u001b[0;31mNameError\u001b[0m: name 'pd' is not defined"
          ]
        }
      ]
    },
    {
      "cell_type": "code",
      "metadata": {
        "id": "6T_sIGm-ueDt",
        "outputId": "4e1c8c90-7227-45a1-c85f-db237535a48b",
        "colab": {
          "base_uri": "https://localhost:8080/",
          "height": 34
        }
      },
      "source": [
        "\n",
        "predictions =model.predict(X.iloc[0:1])\n",
        "print(predictions)"
      ],
      "execution_count": 7,
      "outputs": [
        {
          "output_type": "stream",
          "text": [
            "[[-1.4360298 -1.7270501 -2.2268267 -0.6608337  1.5833187 -3.1084003]]\n"
          ],
          "name": "stdout"
        }
      ]
    },
    {
      "cell_type": "code",
      "metadata": {
        "id": "tCnNWTkZ3Ckz"
      },
      "source": [
        "\n",
        "\n"
      ],
      "execution_count": 9,
      "outputs": []
    }
  ]
}